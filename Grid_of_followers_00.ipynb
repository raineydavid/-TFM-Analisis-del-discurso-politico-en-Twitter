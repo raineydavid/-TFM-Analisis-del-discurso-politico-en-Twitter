{
 "cells": [
  {
   "cell_type": "code",
   "execution_count": 2,
   "metadata": {},
   "outputs": [],
   "source": [
    "import json\n",
    "import tweepy\n",
    "# General:\n",
    "import tweepy           # Para consumir la API de Tweeter\n",
    "import pandas as pd     # Para análisis de datos\n",
    "import numpy as np      # Para cálculo numérico\n",
    "# Para visualización con gráficos:\n",
    "from IPython.display import display\n",
    "import matplotlib.pyplot as plt\n",
    "import seaborn as sns\n",
    "import time\n",
    "%matplotlib inline"
   ]
  },
  {
   "cell_type": "code",
   "execution_count": 155,
   "metadata": {},
   "outputs": [],
   "source": [
    "consumer_key='CTXchN99VNe7jl8MgZrE47AIm'\n",
    "consumer_secret= 'faQ0b0r6FyfblBIPfJe0k6qjlEEqbynVmghjaKuzZhjskggjFq'\n",
    "access_token = '1118494816105574401-JTGPAQhrSsvFSrd9O0eN03HkFVYjAK'\n",
    "access_secret = 'OWg6aPlumQPSlXFn2kAiQcByNFkWyse0nE9JgXxQlglnR'"
   ]
  },
  {
   "cell_type": "code",
   "execution_count": 156,
   "metadata": {},
   "outputs": [],
   "source": [
    "def twitter_setup():\n",
    "    \"\"\"\n",
    "    Función de utilidad para configurar la API de Twitter\n",
    "    con nuestras claves de acceso.\n",
    "    \"\"\"\n",
    "    # Autenticación y acceso usando claves:\n",
    "    auth = tweepy.OAuthHandler(consumer_key, consumer_secret)\n",
    "    auth.set_access_token(access_token, access_secret)\n",
    "\n",
    "    # Retornar API con autenticación:\n",
    "    api = tweepy.API(auth, wait_on_rate_limit=True, wait_on_rate_limit_notify=True)\n",
    "    return api"
   ]
  },
  {
   "cell_type": "code",
   "execution_count": 157,
   "metadata": {},
   "outputs": [
    {
     "name": "stdout",
     "output_type": "stream",
     "text": [
      "158342368\n"
     ]
    }
   ],
   "source": [
    "extractor = twitter_setup()\n",
    "u = extractor.get_user('Pablo_iglesias_')\n",
    "print(u.id)"
   ]
  },
  {
   "cell_type": "code",
   "execution_count": 158,
   "metadata": {},
   "outputs": [],
   "source": [
    "def extractor_follows(id_):\n",
    "    extractor= twitter_setup()\n",
    "    ids = []\n",
    "    u = extractor.get_user(id_)\n",
    "    name = u.screen_name\n",
    "    try:\n",
    "        for page in tweepy.Cursor(extractor.followers_ids, id=id_).pages():\n",
    "            ids.extend(page)\n",
    "    except: ConnectionError      \n",
    "    ids=pd.DataFrame(ids,columns=[name],dtype=object)\n",
    "    return ids "
   ]
  },
  {
   "cell_type": "code",
   "execution_count": 159,
   "metadata": {},
   "outputs": [],
   "source": [
    "def extractor_follows_01(id_):\n",
    "    extractor= twitter_setup()\n",
    "    ids = []\n",
    "    u = extractor.get_user(id_)\n",
    "    name = u.screen_name\n",
    "    try:\n",
    "        for page in tweepy.Cursor(extractor.followers_ids, id=id_).pages():\n",
    "            ids.extend(page)\n",
    "    except: ConnectionError      \n",
    "    \n",
    "    return ids, name "
   ]
  },
  {
   "cell_type": "code",
   "execution_count": 160,
   "metadata": {},
   "outputs": [],
   "source": [
    "def grid_of_followers(id_):\n",
    "    \n",
    "        extractor= twitter_setup()\n",
    "        \n",
    "        df = extractor_follows(id_)\n",
    "        u = extractor.get_user(id_)\n",
    "        private= u.protected\n",
    "        \n",
    "        if private== False:\n",
    "            name_user = u.screen_name\n",
    "            \n",
    "            \n",
    "            try:\n",
    "                followers=[]\n",
    "                names= []\n",
    "                for i in df[name_user]:\n",
    "                    u = extractor.get_user(i)\n",
    "                    private= u.protected\n",
    "                    \n",
    "                    if private == False:\n",
    "                    \n",
    "                        follower, name= extractor_follows_01(i)\n",
    "                        followers.append(follower)\n",
    "                        names.append(i)\n",
    "                                      \n",
    "                    else:\n",
    "                        print('error')\n",
    "                        pass\n",
    "                        \n",
    "                followers_dt= pd.DataFrame(followers,dtype=object).transpose()\n",
    "                names_series= pd.Series(names)\n",
    "                followers_dt=followers_dt.rename(columns=names_series)\n",
    "                grid= pd.concat([df,followers_dt],axis=1)\n",
    "                grid.to_csv(name_user +'grid_of_follows.csv',mode= 'a')\n",
    "            except:\n",
    "                print('error 2')\n",
    "                pass\n",
    "            \n",
    "        else:\n",
    "            print('private user')\n",
    "            pass\n",
    "        return "
   ]
  },
  {
   "cell_type": "code",
   "execution_count": 161,
   "metadata": {},
   "outputs": [
    {
     "name": "stdout",
     "output_type": "stream",
     "text": [
      "Wall time: 10.6 s\n"
     ]
    }
   ],
   "source": [
    "%%time\n",
    "grid_of_followers(924114887722364929)"
   ]
  },
  {
   "cell_type": "code",
   "execution_count": 3,
   "metadata": {},
   "outputs": [],
   "source": [
    "dt = pd.read_csv('Carlos0520683grid_of_follows.csv',dtype=object)"
   ]
  },
  {
   "cell_type": "code",
   "execution_count": 4,
   "metadata": {},
   "outputs": [],
   "source": [
    "dt= dt.drop(columns='Unnamed: 0')"
   ]
  },
  {
   "cell_type": "code",
   "execution_count": 1,
   "metadata": {},
   "outputs": [
    {
     "ename": "NameError",
     "evalue": "name 'dt' is not defined",
     "output_type": "error",
     "traceback": [
      "\u001b[1;31m---------------------------------------------------------------------------\u001b[0m",
      "\u001b[1;31mNameError\u001b[0m                                 Traceback (most recent call last)",
      "\u001b[1;32m<ipython-input-1-6cfa8ecd716f>\u001b[0m in \u001b[0;36m<module>\u001b[1;34m()\u001b[0m\n\u001b[1;32m----> 1\u001b[1;33m \u001b[0mdt\u001b[0m\u001b[1;33m.\u001b[0m\u001b[0mhead\u001b[0m\u001b[1;33m(\u001b[0m\u001b[1;33m)\u001b[0m\u001b[1;33m\u001b[0m\u001b[0m\n\u001b[0m",
      "\u001b[1;31mNameError\u001b[0m: name 'dt' is not defined"
     ]
    }
   ],
   "source": [
    "dt.head()"
   ]
  },
  {
   "cell_type": "code",
   "execution_count": null,
   "metadata": {},
   "outputs": [],
   "source": []
  }
 ],
 "metadata": {
  "kernelspec": {
   "display_name": "Python 3",
   "language": "python",
   "name": "python3"
  },
  "language_info": {
   "codemirror_mode": {
    "name": "ipython",
    "version": 3
   },
   "file_extension": ".py",
   "mimetype": "text/x-python",
   "name": "python",
   "nbconvert_exporter": "python",
   "pygments_lexer": "ipython3",
   "version": "3.6.5"
  }
 },
 "nbformat": 4,
 "nbformat_minor": 2
}
